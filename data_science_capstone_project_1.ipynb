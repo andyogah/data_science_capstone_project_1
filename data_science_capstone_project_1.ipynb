{
 "cells": [
  {
   "cell_type": "code",
   "execution_count": null,
   "metadata": {
    "collapsed": true
   },
   "outputs": [],
   "source": []
  },
  {
   "cell_type": "markdown",
   "metadata": {},
   "source": [
    "***Currently working on the dataset from the Global Terrorism Database (GTD) maintained by the University of Maryland to gain insights into current state of terrorism in the US, and possibly making predictions of future unrewarded risks. I foresee this analysis valuable to the US Department of Homeland Security, other government establishments, businesses or individuals that care about safety of lives and properties.***\n",
    "\n",
    "***Dataset can be found at: http://www.start.umd.edu/gtd/***\n",
    "\n",
    "***Given an attacker's group name, can we predict if the attack is *** \n",
    "\n",
    "***Overseeing Mentor: Dr. Stylianos Kampakis***"
   ]
  },
  {
   "cell_type": "code",
   "execution_count": 1,
   "metadata": {
    "collapsed": true
   },
   "outputs": [],
   "source": [
    "import pandas as pd\n",
    "import numpy as np\n",
    "import matplotlib\n",
    "import matplotlib.pyplot as plt\n",
    "import seaborn as sns\n",
    "sns.set(style=\"whitegrid\", color_codes=True)\n",
    "np.random.seed(sum(map(ord, \"categorical\")))\n",
    "matplotlib.style.use('ggplot')\n"
   ]
  },
  {
   "cell_type": "code",
   "execution_count": 2,
   "metadata": {
    "collapsed": true
   },
   "outputs": [],
   "source": [
    "%matplotlib inline"
   ]
  },
  {
   "cell_type": "markdown",
   "metadata": {},
   "source": [
    "## Exploratory Data Analysis (EDA)\n",
    "\n",
    "The dataset was downloaded as an excel spreadsheet. This will be uploaded into Pandas and then we carry out an Exploratory Data Analysis (EDA). "
   ]
  },
  {
   "cell_type": "code",
   "execution_count": 3,
   "metadata": {},
   "outputs": [],
   "source": [
    "file= r'C:\\Users\\andre\\Desktop\\git_jupyter\\springboard_mini_project\\capstone_projects/globalterrorismdb_0617dist.xlsx'\n",
    "df= pd.read_excel(file)"
   ]
  },
  {
   "cell_type": "code",
   "execution_count": 4,
   "metadata": {},
   "outputs": [
    {
     "data": {
      "text/html": [
       "<div>\n",
       "<style>\n",
       "    .dataframe thead tr:only-child th {\n",
       "        text-align: right;\n",
       "    }\n",
       "\n",
       "    .dataframe thead th {\n",
       "        text-align: left;\n",
       "    }\n",
       "\n",
       "    .dataframe tbody tr th {\n",
       "        vertical-align: top;\n",
       "    }\n",
       "</style>\n",
       "<table border=\"1\" class=\"dataframe\">\n",
       "  <thead>\n",
       "    <tr style=\"text-align: right;\">\n",
       "      <th></th>\n",
       "      <th>eventid</th>\n",
       "      <th>iyear</th>\n",
       "      <th>imonth</th>\n",
       "      <th>iday</th>\n",
       "      <th>approxdate</th>\n",
       "      <th>extended</th>\n",
       "      <th>resolution</th>\n",
       "      <th>country</th>\n",
       "      <th>country_txt</th>\n",
       "      <th>region</th>\n",
       "      <th>...</th>\n",
       "      <th>addnotes</th>\n",
       "      <th>scite1</th>\n",
       "      <th>scite2</th>\n",
       "      <th>scite3</th>\n",
       "      <th>dbsource</th>\n",
       "      <th>INT_LOG</th>\n",
       "      <th>INT_IDEO</th>\n",
       "      <th>INT_MISC</th>\n",
       "      <th>INT_ANY</th>\n",
       "      <th>related</th>\n",
       "    </tr>\n",
       "  </thead>\n",
       "  <tbody>\n",
       "    <tr>\n",
       "      <th>5</th>\n",
       "      <td>197001010002</td>\n",
       "      <td>1970</td>\n",
       "      <td>1</td>\n",
       "      <td>1</td>\n",
       "      <td>NaN</td>\n",
       "      <td>0</td>\n",
       "      <td>NaT</td>\n",
       "      <td>217</td>\n",
       "      <td>United States</td>\n",
       "      <td>1</td>\n",
       "      <td>...</td>\n",
       "      <td>The Cairo Chief of Police, William Petersen, r...</td>\n",
       "      <td>\"Police Chief Quits,\" Washington Post, January...</td>\n",
       "      <td>\"Cairo Police Chief Quits; Decries Local 'Mili...</td>\n",
       "      <td>Christopher Hewitt, \"Political Violence and Te...</td>\n",
       "      <td>Hewitt Project</td>\n",
       "      <td>-9</td>\n",
       "      <td>-9</td>\n",
       "      <td>0</td>\n",
       "      <td>-9</td>\n",
       "      <td>NaN</td>\n",
       "    </tr>\n",
       "    <tr>\n",
       "      <th>7</th>\n",
       "      <td>197001020002</td>\n",
       "      <td>1970</td>\n",
       "      <td>1</td>\n",
       "      <td>2</td>\n",
       "      <td>NaN</td>\n",
       "      <td>0</td>\n",
       "      <td>NaT</td>\n",
       "      <td>217</td>\n",
       "      <td>United States</td>\n",
       "      <td>1</td>\n",
       "      <td>...</td>\n",
       "      <td>Damages were estimated to be between $20,000-$...</td>\n",
       "      <td>Committee on Government Operations United Stat...</td>\n",
       "      <td>Christopher Hewitt, \"Political Violence and Te...</td>\n",
       "      <td>NaN</td>\n",
       "      <td>Hewitt Project</td>\n",
       "      <td>-9</td>\n",
       "      <td>-9</td>\n",
       "      <td>0</td>\n",
       "      <td>-9</td>\n",
       "      <td>NaN</td>\n",
       "    </tr>\n",
       "    <tr>\n",
       "      <th>8</th>\n",
       "      <td>197001020003</td>\n",
       "      <td>1970</td>\n",
       "      <td>1</td>\n",
       "      <td>2</td>\n",
       "      <td>NaN</td>\n",
       "      <td>0</td>\n",
       "      <td>NaT</td>\n",
       "      <td>217</td>\n",
       "      <td>United States</td>\n",
       "      <td>1</td>\n",
       "      <td>...</td>\n",
       "      <td>The New Years Gang issue a communiqué to a loc...</td>\n",
       "      <td>Tom Bates, \"Rads: The 1970 Bombing of the Army...</td>\n",
       "      <td>David Newman, Sandra Sutherland, and Jon Stewa...</td>\n",
       "      <td>The Wisconsin Cartographers' Guild, \"Wisconsin...</td>\n",
       "      <td>Hewitt Project</td>\n",
       "      <td>0</td>\n",
       "      <td>0</td>\n",
       "      <td>0</td>\n",
       "      <td>0</td>\n",
       "      <td>NaN</td>\n",
       "    </tr>\n",
       "  </tbody>\n",
       "</table>\n",
       "<p>3 rows × 135 columns</p>\n",
       "</div>"
      ],
      "text/plain": [
       "        eventid  iyear  imonth  iday approxdate  extended resolution  country  \\\n",
       "5  197001010002   1970       1     1        NaN         0        NaT      217   \n",
       "7  197001020002   1970       1     2        NaN         0        NaT      217   \n",
       "8  197001020003   1970       1     2        NaN         0        NaT      217   \n",
       "\n",
       "     country_txt  region   ...     \\\n",
       "5  United States       1   ...      \n",
       "7  United States       1   ...      \n",
       "8  United States       1   ...      \n",
       "\n",
       "                                            addnotes  \\\n",
       "5  The Cairo Chief of Police, William Petersen, r...   \n",
       "7  Damages were estimated to be between $20,000-$...   \n",
       "8  The New Years Gang issue a communiqué to a loc...   \n",
       "\n",
       "                                              scite1  \\\n",
       "5  \"Police Chief Quits,\" Washington Post, January...   \n",
       "7  Committee on Government Operations United Stat...   \n",
       "8  Tom Bates, \"Rads: The 1970 Bombing of the Army...   \n",
       "\n",
       "                                              scite2  \\\n",
       "5  \"Cairo Police Chief Quits; Decries Local 'Mili...   \n",
       "7  Christopher Hewitt, \"Political Violence and Te...   \n",
       "8  David Newman, Sandra Sutherland, and Jon Stewa...   \n",
       "\n",
       "                                              scite3        dbsource  INT_LOG  \\\n",
       "5  Christopher Hewitt, \"Political Violence and Te...  Hewitt Project       -9   \n",
       "7                                                NaN  Hewitt Project       -9   \n",
       "8  The Wisconsin Cartographers' Guild, \"Wisconsin...  Hewitt Project        0   \n",
       "\n",
       "   INT_IDEO INT_MISC INT_ANY  related  \n",
       "5        -9        0      -9      NaN  \n",
       "7        -9        0      -9      NaN  \n",
       "8         0        0       0      NaN  \n",
       "\n",
       "[3 rows x 135 columns]"
      ]
     },
     "execution_count": 4,
     "metadata": {},
     "output_type": "execute_result"
    }
   ],
   "source": [
    "#restrict this dataset to occurrences in the US.\n",
    "df1= df['country_txt'].str.contains('United States')\n",
    "df2= df[df1]\n",
    "df2.head(3)"
   ]
  },
  {
   "cell_type": "code",
   "execution_count": 5,
   "metadata": {},
   "outputs": [
    {
     "data": {
      "text/plain": [
       "(2758, 135)"
      ]
     },
     "execution_count": 5,
     "metadata": {},
     "output_type": "execute_result"
    }
   ],
   "source": [
    "#structure of DataFrame i need\n",
    "df2.shape"
   ]
  },
  {
   "cell_type": "code",
   "execution_count": 6,
   "metadata": {},
   "outputs": [
    {
     "name": "stdout",
     "output_type": "stream",
     "text": [
      "<class 'pandas.core.frame.DataFrame'>\n",
      "Int64Index: 2758 entries, 5 to 169902\n",
      "Columns: 135 entries, eventid to related\n",
      "dtypes: datetime64[ns](1), float64(53), int64(24), object(57)\n",
      "memory usage: 2.9+ MB\n"
     ]
    }
   ],
   "source": [
    "df2.info()"
   ]
  },
  {
   "cell_type": "code",
   "execution_count": 7,
   "metadata": {},
   "outputs": [
    {
     "data": {
      "text/plain": [
       "eventid                  0\n",
       "iyear                    0\n",
       "imonth                   0\n",
       "iday                     0\n",
       "approxdate            2721\n",
       "extended                 0\n",
       "resolution            2746\n",
       "country                  0\n",
       "country_txt              0\n",
       "region                   0\n",
       "region_txt               0\n",
       "provstate                0\n",
       "city                     0\n",
       "latitude                 1\n",
       "longitude                1\n",
       "specificity              0\n",
       "vicinity                 0\n",
       "location              1852\n",
       "summary               1054\n",
       "crit1                    0\n",
       "crit2                    0\n",
       "crit3                    0\n",
       "doubtterr                0\n",
       "alternative           2364\n",
       "alternative_txt       2364\n",
       "multiple                 0\n",
       "success                  0\n",
       "suicide                  0\n",
       "attacktype1              0\n",
       "attacktype1_txt          0\n",
       "                      ... \n",
       "propextent            1191\n",
       "propextent_txt        1191\n",
       "propvalue             1840\n",
       "propcomment           1748\n",
       "ishostkid              176\n",
       "nhostkid              2696\n",
       "nhostkidus            2696\n",
       "nhours                2720\n",
       "ndays                 2736\n",
       "divert                2751\n",
       "kidhijcountry         2744\n",
       "ransom                 588\n",
       "ransomamt             2750\n",
       "ransomamtus           2757\n",
       "ransompaid            2757\n",
       "ransompaidus          2758\n",
       "ransomnote            2757\n",
       "hostkidoutcome        2720\n",
       "hostkidoutcome_txt    2720\n",
       "nreleased             2735\n",
       "addnotes              1550\n",
       "scite1                1054\n",
       "scite2                1214\n",
       "scite3                1629\n",
       "dbsource                 0\n",
       "INT_LOG                  0\n",
       "INT_IDEO                 0\n",
       "INT_MISC                 0\n",
       "INT_ANY                  0\n",
       "related               2300\n",
       "Length: 135, dtype: int64"
      ]
     },
     "execution_count": 7,
     "metadata": {},
     "output_type": "execute_result"
    }
   ],
   "source": [
    "#shows number missing values for each feature in the DataFrame\n",
    "df2.isnull().sum()"
   ]
  },
  {
   "cell_type": "code",
   "execution_count": 8,
   "metadata": {
    "collapsed": true
   },
   "outputs": [],
   "source": [
    "class EDA():\n",
    "    '''Used for running Exploratory Data Analysis'''\n",
    "    def __init__(self):\n",
    "        ''''''\n",
    "    def drop_col_nan(self, x, threshold):\n",
    "        for col in x.columns:\n",
    "            amt = sum(x[col].isnull())/float(len(x)) * 100\n",
    "            if amt > threshold:\n",
    "                x = x.drop(col,1)\n",
    "                pd.set_option('display.max_columns', None)\n",
    "        return x\n",
    "        \n",
    "    def drop_noisy_col(self, y, w=[]):\n",
    "        y=y.drop(w, 1)\n",
    "        return y\n",
    "                \n",
    "    def drop_col_txt(self, z):\n",
    "        for c in z.columns:\n",
    "            c = str(c)\n",
    "            if c[-3:] =='txt':\n",
    "                z = z.drop(c, 1)\n",
    "                pd.set_option('display.max_columns', None)\n",
    "        return z     \n",
    "       "
   ]
  },
  {
   "cell_type": "code",
   "execution_count": 9,
   "metadata": {
    "collapsed": true
   },
   "outputs": [],
   "source": [
    "my_EDA = EDA()\n",
    "df3=my_EDA.drop_col_nan(df2, 80)"
   ]
  },
  {
   "cell_type": "code",
   "execution_count": 10,
   "metadata": {
    "collapsed": true
   },
   "outputs": [],
   "source": [
    "df3.index = range(len(df2))"
   ]
  },
  {
   "cell_type": "code",
   "execution_count": 11,
   "metadata": {
    "collapsed": true
   },
   "outputs": [],
   "source": [
    "df4=my_EDA.drop_col_txt(df3)"
   ]
  },
  {
   "cell_type": "code",
   "execution_count": 12,
   "metadata": {
    "collapsed": true
   },
   "outputs": [],
   "source": [
    "df5=my_EDA.drop_noisy_col(df4, ['corp1', 'motive', 'target1', 'weapdetail','country','addnotes', 'summary', 'scite1' , 'scite2' , 'scite3' , 'dbsource', 'INT_LOG' ,'longitude','specificity', 'eventid', 'location','region', 'propcomment', 'latitude'])"
   ]
  },
  {
   "cell_type": "code",
   "execution_count": 13,
   "metadata": {},
   "outputs": [
    {
     "data": {
      "text/plain": [
       "(2758, 40)"
      ]
     },
     "execution_count": 13,
     "metadata": {},
     "output_type": "execute_result"
    }
   ],
   "source": [
    "df5.shape"
   ]
  },
  {
   "cell_type": "code",
   "execution_count": 14,
   "metadata": {},
   "outputs": [
    {
     "data": {
      "text/plain": [
       "iyear              0\n",
       "imonth             0\n",
       "iday               0\n",
       "extended           0\n",
       "provstate          0\n",
       "city               0\n",
       "vicinity           0\n",
       "crit1              0\n",
       "crit2              0\n",
       "crit3              0\n",
       "doubtterr          0\n",
       "multiple           0\n",
       "success            0\n",
       "suicide            0\n",
       "attacktype1        0\n",
       "targtype1          0\n",
       "targsubtype1     120\n",
       "natlty1            9\n",
       "gname              0\n",
       "guncertain1        0\n",
       "individual         0\n",
       "nperps           982\n",
       "nperpcap        1055\n",
       "claimed         1051\n",
       "weaptype1          0\n",
       "weapsubtype1     259\n",
       "nkill             73\n",
       "nkillus          953\n",
       "nkillter        1004\n",
       "nwound            93\n",
       "nwoundus         973\n",
       "nwoundte        1018\n",
       "property           0\n",
       "propextent      1191\n",
       "propvalue       1840\n",
       "ishostkid        176\n",
       "ransom           588\n",
       "INT_IDEO           0\n",
       "INT_MISC           0\n",
       "INT_ANY            0\n",
       "dtype: int64"
      ]
     },
     "execution_count": 14,
     "metadata": {},
     "output_type": "execute_result"
    }
   ],
   "source": [
    "df5.isnull().sum()"
   ]
  },
  {
   "cell_type": "code",
   "execution_count": 15,
   "metadata": {},
   "outputs": [
    {
     "data": {
      "text/html": [
       "<div>\n",
       "<style>\n",
       "    .dataframe thead tr:only-child th {\n",
       "        text-align: right;\n",
       "    }\n",
       "\n",
       "    .dataframe thead th {\n",
       "        text-align: left;\n",
       "    }\n",
       "\n",
       "    .dataframe tbody tr th {\n",
       "        vertical-align: top;\n",
       "    }\n",
       "</style>\n",
       "<table border=\"1\" class=\"dataframe\">\n",
       "  <thead>\n",
       "    <tr style=\"text-align: right;\">\n",
       "      <th></th>\n",
       "      <th>iyear</th>\n",
       "      <th>imonth</th>\n",
       "      <th>iday</th>\n",
       "      <th>extended</th>\n",
       "      <th>provstate</th>\n",
       "      <th>city</th>\n",
       "      <th>vicinity</th>\n",
       "      <th>crit1</th>\n",
       "      <th>crit2</th>\n",
       "      <th>crit3</th>\n",
       "      <th>doubtterr</th>\n",
       "      <th>multiple</th>\n",
       "      <th>success</th>\n",
       "      <th>suicide</th>\n",
       "      <th>attacktype1</th>\n",
       "      <th>targtype1</th>\n",
       "      <th>targsubtype1</th>\n",
       "      <th>natlty1</th>\n",
       "      <th>gname</th>\n",
       "      <th>guncertain1</th>\n",
       "      <th>individual</th>\n",
       "      <th>nperps</th>\n",
       "      <th>nperpcap</th>\n",
       "      <th>claimed</th>\n",
       "      <th>weaptype1</th>\n",
       "      <th>weapsubtype1</th>\n",
       "      <th>nkill</th>\n",
       "      <th>nkillus</th>\n",
       "      <th>nkillter</th>\n",
       "      <th>nwound</th>\n",
       "      <th>nwoundus</th>\n",
       "      <th>nwoundte</th>\n",
       "      <th>property</th>\n",
       "      <th>propextent</th>\n",
       "      <th>propvalue</th>\n",
       "      <th>ishostkid</th>\n",
       "      <th>ransom</th>\n",
       "      <th>INT_IDEO</th>\n",
       "      <th>INT_MISC</th>\n",
       "      <th>INT_ANY</th>\n",
       "    </tr>\n",
       "  </thead>\n",
       "  <tbody>\n",
       "    <tr>\n",
       "      <th>0</th>\n",
       "      <td>1970</td>\n",
       "      <td>1</td>\n",
       "      <td>1</td>\n",
       "      <td>0</td>\n",
       "      <td>Illinois</td>\n",
       "      <td>Cairo</td>\n",
       "      <td>0</td>\n",
       "      <td>1</td>\n",
       "      <td>1</td>\n",
       "      <td>1</td>\n",
       "      <td>0</td>\n",
       "      <td>0</td>\n",
       "      <td>1</td>\n",
       "      <td>0</td>\n",
       "      <td>2</td>\n",
       "      <td>3</td>\n",
       "      <td>22.0</td>\n",
       "      <td>217.0</td>\n",
       "      <td>Black Nationalists</td>\n",
       "      <td>0.0</td>\n",
       "      <td>0</td>\n",
       "      <td>-99.0</td>\n",
       "      <td>-99.0</td>\n",
       "      <td>0.0</td>\n",
       "      <td>5</td>\n",
       "      <td>5.0</td>\n",
       "      <td>0.0</td>\n",
       "      <td>0.0</td>\n",
       "      <td>0.0</td>\n",
       "      <td>0.0</td>\n",
       "      <td>0.0</td>\n",
       "      <td>0.0</td>\n",
       "      <td>1</td>\n",
       "      <td>3.0</td>\n",
       "      <td>NaN</td>\n",
       "      <td>0.0</td>\n",
       "      <td>0.0</td>\n",
       "      <td>-9</td>\n",
       "      <td>0</td>\n",
       "      <td>-9</td>\n",
       "    </tr>\n",
       "    <tr>\n",
       "      <th>1</th>\n",
       "      <td>1970</td>\n",
       "      <td>1</td>\n",
       "      <td>2</td>\n",
       "      <td>0</td>\n",
       "      <td>California</td>\n",
       "      <td>Oakland</td>\n",
       "      <td>0</td>\n",
       "      <td>1</td>\n",
       "      <td>1</td>\n",
       "      <td>1</td>\n",
       "      <td>1</td>\n",
       "      <td>0</td>\n",
       "      <td>1</td>\n",
       "      <td>0</td>\n",
       "      <td>3</td>\n",
       "      <td>21</td>\n",
       "      <td>107.0</td>\n",
       "      <td>217.0</td>\n",
       "      <td>Unknown</td>\n",
       "      <td>0.0</td>\n",
       "      <td>0</td>\n",
       "      <td>-99.0</td>\n",
       "      <td>-99.0</td>\n",
       "      <td>0.0</td>\n",
       "      <td>6</td>\n",
       "      <td>16.0</td>\n",
       "      <td>0.0</td>\n",
       "      <td>0.0</td>\n",
       "      <td>0.0</td>\n",
       "      <td>0.0</td>\n",
       "      <td>0.0</td>\n",
       "      <td>0.0</td>\n",
       "      <td>1</td>\n",
       "      <td>3.0</td>\n",
       "      <td>22500.0</td>\n",
       "      <td>0.0</td>\n",
       "      <td>0.0</td>\n",
       "      <td>-9</td>\n",
       "      <td>0</td>\n",
       "      <td>-9</td>\n",
       "    </tr>\n",
       "  </tbody>\n",
       "</table>\n",
       "</div>"
      ],
      "text/plain": [
       "   iyear  imonth  iday  extended   provstate     city  vicinity  crit1  crit2  \\\n",
       "0   1970       1     1         0    Illinois    Cairo         0      1      1   \n",
       "1   1970       1     2         0  California  Oakland         0      1      1   \n",
       "\n",
       "   crit3  doubtterr  multiple  success  suicide  attacktype1  targtype1  \\\n",
       "0      1          0         0        1        0            2          3   \n",
       "1      1          1         0        1        0            3         21   \n",
       "\n",
       "   targsubtype1  natlty1               gname  guncertain1  individual  nperps  \\\n",
       "0          22.0    217.0  Black Nationalists          0.0           0   -99.0   \n",
       "1         107.0    217.0             Unknown          0.0           0   -99.0   \n",
       "\n",
       "   nperpcap  claimed  weaptype1  weapsubtype1  nkill  nkillus  nkillter  \\\n",
       "0     -99.0      0.0          5           5.0    0.0      0.0       0.0   \n",
       "1     -99.0      0.0          6          16.0    0.0      0.0       0.0   \n",
       "\n",
       "   nwound  nwoundus  nwoundte  property  propextent  propvalue  ishostkid  \\\n",
       "0     0.0       0.0       0.0         1         3.0        NaN        0.0   \n",
       "1     0.0       0.0       0.0         1         3.0    22500.0        0.0   \n",
       "\n",
       "   ransom  INT_IDEO  INT_MISC  INT_ANY  \n",
       "0     0.0        -9         0       -9  \n",
       "1     0.0        -9         0       -9  "
      ]
     },
     "execution_count": 15,
     "metadata": {},
     "output_type": "execute_result"
    }
   ],
   "source": [
    "df5.head(2)"
   ]
  },
  {
   "cell_type": "code",
   "execution_count": 16,
   "metadata": {
    "collapsed": true
   },
   "outputs": [],
   "source": [
    "#writer = pd.ExcelWriter('abc2_xlsx', engine='xlsxwriter')"
   ]
  },
  {
   "cell_type": "code",
   "execution_count": 17,
   "metadata": {
    "collapsed": true
   },
   "outputs": [],
   "source": [
    "#df5.to_excel(writer, sheet_name='Sheet1')"
   ]
  },
  {
   "cell_type": "code",
   "execution_count": 18,
   "metadata": {
    "collapsed": true
   },
   "outputs": [],
   "source": [
    "#writer.save()"
   ]
  },
  {
   "cell_type": "markdown",
   "metadata": {},
   "source": [
    "    "
   ]
  },
  {
   "cell_type": "markdown",
   "metadata": {},
   "source": [
    "### Imputing Missing Values"
   ]
  },
  {
   "cell_type": "code",
   "execution_count": 19,
   "metadata": {
    "collapsed": true
   },
   "outputs": [],
   "source": [
    "from sklearn.base import TransformerMixin\n",
    "\n",
    "class DataFrameImputer(TransformerMixin):\n",
    "\n",
    "    def __init__(self):\n",
    "        \"\"\"Impute missing values.\n",
    "\n",
    "        Columns of dtype object are imputed with the most frequent value \n",
    "        in column.\n",
    "\n",
    "        Columns of other types are imputed with median of column.\n",
    "\n",
    "        \"\"\"\n",
    "    def fit(self, X, y=None):\n",
    "\n",
    "        self.fill = pd.Series([X[c].value_counts().index[0]\n",
    "            if X[c].dtype == np.dtype('O') else X[c].median() for c in X],\n",
    "            index=X.columns)\n",
    "        return self\n",
    "\n",
    "    def transform(self, X, y=None):\n",
    "        return X.fillna(self.fill)"
   ]
  },
  {
   "cell_type": "code",
   "execution_count": 20,
   "metadata": {
    "collapsed": true
   },
   "outputs": [],
   "source": [
    "df6 = DataFrameImputer().fit_transform(df5)\n"
   ]
  },
  {
   "cell_type": "code",
   "execution_count": 21,
   "metadata": {},
   "outputs": [
    {
     "data": {
      "text/plain": [
       "iyear           0\n",
       "imonth          0\n",
       "iday            0\n",
       "extended        0\n",
       "provstate       0\n",
       "city            0\n",
       "vicinity        0\n",
       "crit1           0\n",
       "crit2           0\n",
       "crit3           0\n",
       "doubtterr       0\n",
       "multiple        0\n",
       "success         0\n",
       "suicide         0\n",
       "attacktype1     0\n",
       "targtype1       0\n",
       "targsubtype1    0\n",
       "natlty1         0\n",
       "gname           0\n",
       "guncertain1     0\n",
       "individual      0\n",
       "nperps          0\n",
       "nperpcap        0\n",
       "claimed         0\n",
       "weaptype1       0\n",
       "weapsubtype1    0\n",
       "nkill           0\n",
       "nkillus         0\n",
       "nkillter        0\n",
       "nwound          0\n",
       "nwoundus        0\n",
       "nwoundte        0\n",
       "property        0\n",
       "propextent      0\n",
       "propvalue       0\n",
       "ishostkid       0\n",
       "ransom          0\n",
       "INT_IDEO        0\n",
       "INT_MISC        0\n",
       "INT_ANY         0\n",
       "dtype: int64"
      ]
     },
     "execution_count": 21,
     "metadata": {},
     "output_type": "execute_result"
    }
   ],
   "source": [
    "df6.isnull().sum()"
   ]
  },
  {
   "cell_type": "code",
   "execution_count": 22,
   "metadata": {},
   "outputs": [
    {
     "data": {
      "text/plain": [
       "iyear             int64\n",
       "imonth            int64\n",
       "iday              int64\n",
       "extended          int64\n",
       "provstate        object\n",
       "city             object\n",
       "vicinity          int64\n",
       "crit1             int64\n",
       "crit2             int64\n",
       "crit3             int64\n",
       "doubtterr         int64\n",
       "multiple          int64\n",
       "success           int64\n",
       "suicide           int64\n",
       "attacktype1       int64\n",
       "targtype1         int64\n",
       "targsubtype1    float64\n",
       "natlty1         float64\n",
       "gname            object\n",
       "guncertain1     float64\n",
       "individual        int64\n",
       "nperps          float64\n",
       "nperpcap        float64\n",
       "claimed         float64\n",
       "weaptype1         int64\n",
       "weapsubtype1    float64\n",
       "nkill           float64\n",
       "nkillus         float64\n",
       "nkillter        float64\n",
       "nwound          float64\n",
       "nwoundus        float64\n",
       "nwoundte        float64\n",
       "property          int64\n",
       "propextent      float64\n",
       "propvalue       float64\n",
       "ishostkid       float64\n",
       "ransom          float64\n",
       "INT_IDEO          int64\n",
       "INT_MISC          int64\n",
       "INT_ANY           int64\n",
       "dtype: object"
      ]
     },
     "execution_count": 22,
     "metadata": {},
     "output_type": "execute_result"
    }
   ],
   "source": [
    "df6.dtypes"
   ]
  },
  {
   "cell_type": "markdown",
   "metadata": {},
   "source": [
    "***https://stackoverflow.com/questions/17071871/select-rows-from-a-dataframe-based-on-values-in-a-column-in-pandas ***"
   ]
  },
  {
   "cell_type": "markdown",
   "metadata": {},
   "source": [
    "** Testing Data **"
   ]
  },
  {
   "cell_type": "code",
   "execution_count": 23,
   "metadata": {
    "collapsed": true
   },
   "outputs": [],
   "source": [
    "df6_test = df6.loc[df6['gname'].isin(['Unknown'])]"
   ]
  },
  {
   "cell_type": "code",
   "execution_count": 24,
   "metadata": {
    "collapsed": true
   },
   "outputs": [],
   "source": [
    "df6_test = df6_test.drop('gname', 1)"
   ]
  },
  {
   "cell_type": "markdown",
   "metadata": {},
   "source": [
    "**Training Data**"
   ]
  },
  {
   "cell_type": "code",
   "execution_count": 25,
   "metadata": {
    "collapsed": true
   },
   "outputs": [],
   "source": [
    "df6_train = df6.loc[df6['gname'].isin(['Unknown']) == False]\n",
    "df6_train_x = pd.DataFrame(df6_train)\n",
    "df6_train_x = df6_train_x.drop('gname',1)\n",
    "df6_train_y = df6_train.gname\n"
   ]
  },
  {
   "cell_type": "code",
   "execution_count": null,
   "metadata": {
    "collapsed": true
   },
   "outputs": [],
   "source": []
  },
  {
   "cell_type": "markdown",
   "metadata": {},
   "source": [
    "** Dimensions of the train and test data **\n"
   ]
  },
  {
   "cell_type": "code",
   "execution_count": 26,
   "metadata": {},
   "outputs": [
    {
     "data": {
      "text/plain": [
       "(2206, 39)"
      ]
     },
     "execution_count": 26,
     "metadata": {},
     "output_type": "execute_result"
    }
   ],
   "source": [
    "df6_train_x.shape"
   ]
  },
  {
   "cell_type": "code",
   "execution_count": 27,
   "metadata": {},
   "outputs": [
    {
     "data": {
      "text/plain": [
       "(2206,)"
      ]
     },
     "execution_count": 27,
     "metadata": {},
     "output_type": "execute_result"
    }
   ],
   "source": [
    "df6_train_y.shape"
   ]
  },
  {
   "cell_type": "code",
   "execution_count": 28,
   "metadata": {},
   "outputs": [
    {
     "data": {
      "text/plain": [
       "(552, 39)"
      ]
     },
     "execution_count": 28,
     "metadata": {},
     "output_type": "execute_result"
    }
   ],
   "source": [
    "df6_test.shape"
   ]
  },
  {
   "cell_type": "code",
   "execution_count": null,
   "metadata": {
    "collapsed": true
   },
   "outputs": [],
   "source": []
  },
  {
   "cell_type": "markdown",
   "metadata": {},
   "source": [
    "**Feature Selection**"
   ]
  },
  {
   "cell_type": "code",
   "execution_count": 29,
   "metadata": {},
   "outputs": [],
   "source": [
    "from sklearn.tree import DecisionTreeClassifier\n",
    "from sklearn.preprocessing import LabelEncoder\n",
    "lb = LabelEncoder()\n",
    "\n",
    "#from sklearn.preprocessing import LabelEncoder\n",
    "#y2 = [\"A\",\"1\",\"4\",\"F\",\"A\",\"1\",\"4\",\"F\"]\n",
    "#lb = LabelEncoder()\n",
    "#y = lb.fit_transform(y2)\n",
    "# y is now: array([2, 0, 1, 3, 2, 0, 1, 3])\n",
    "\n",
    "#In order to get back to your original labels (e.g. after classifying unseen data using SVC), use the inverse_transform of LabelEncoder to restore the string labels:\n",
    "\n",
    "#lb.inverse_transform(y)\n",
    "# => array(['A', '1', '4', 'F', 'A', '1', '4', 'F'], dtype='|S1')\n",
    "\n",
    "#clf = DecisionTreeClassifier()\n",
    "#clf = clf.fit(df6_train_x, df6_train_y)"
   ]
  },
  {
   "cell_type": "code",
   "execution_count": 30,
   "metadata": {},
   "outputs": [
    {
     "data": {
      "text/html": [
       "<div>\n",
       "<style>\n",
       "    .dataframe thead tr:only-child th {\n",
       "        text-align: right;\n",
       "    }\n",
       "\n",
       "    .dataframe thead th {\n",
       "        text-align: left;\n",
       "    }\n",
       "\n",
       "    .dataframe tbody tr th {\n",
       "        vertical-align: top;\n",
       "    }\n",
       "</style>\n",
       "<table border=\"1\" class=\"dataframe\">\n",
       "  <thead>\n",
       "    <tr style=\"text-align: right;\">\n",
       "      <th></th>\n",
       "      <th>iyear</th>\n",
       "      <th>imonth</th>\n",
       "      <th>iday</th>\n",
       "      <th>extended</th>\n",
       "      <th>provstate</th>\n",
       "      <th>city</th>\n",
       "      <th>vicinity</th>\n",
       "      <th>crit1</th>\n",
       "      <th>crit2</th>\n",
       "      <th>crit3</th>\n",
       "      <th>doubtterr</th>\n",
       "      <th>multiple</th>\n",
       "      <th>success</th>\n",
       "      <th>suicide</th>\n",
       "      <th>attacktype1</th>\n",
       "      <th>targtype1</th>\n",
       "      <th>targsubtype1</th>\n",
       "      <th>natlty1</th>\n",
       "      <th>guncertain1</th>\n",
       "      <th>individual</th>\n",
       "      <th>nperps</th>\n",
       "      <th>nperpcap</th>\n",
       "      <th>claimed</th>\n",
       "      <th>weaptype1</th>\n",
       "      <th>weapsubtype1</th>\n",
       "      <th>nkill</th>\n",
       "      <th>nkillus</th>\n",
       "      <th>nkillter</th>\n",
       "      <th>nwound</th>\n",
       "      <th>nwoundus</th>\n",
       "      <th>nwoundte</th>\n",
       "      <th>property</th>\n",
       "      <th>propextent</th>\n",
       "      <th>propvalue</th>\n",
       "      <th>ishostkid</th>\n",
       "      <th>ransom</th>\n",
       "      <th>INT_IDEO</th>\n",
       "      <th>INT_MISC</th>\n",
       "      <th>INT_ANY</th>\n",
       "    </tr>\n",
       "  </thead>\n",
       "  <tbody>\n",
       "    <tr>\n",
       "      <th>0</th>\n",
       "      <td>1970</td>\n",
       "      <td>1</td>\n",
       "      <td>1</td>\n",
       "      <td>0</td>\n",
       "      <td>13</td>\n",
       "      <td>83</td>\n",
       "      <td>0</td>\n",
       "      <td>1</td>\n",
       "      <td>1</td>\n",
       "      <td>1</td>\n",
       "      <td>0</td>\n",
       "      <td>0</td>\n",
       "      <td>1</td>\n",
       "      <td>0</td>\n",
       "      <td>2</td>\n",
       "      <td>3</td>\n",
       "      <td>22.0</td>\n",
       "      <td>217.0</td>\n",
       "      <td>0.0</td>\n",
       "      <td>0</td>\n",
       "      <td>-99.0</td>\n",
       "      <td>-99.0</td>\n",
       "      <td>0.0</td>\n",
       "      <td>5</td>\n",
       "      <td>5.0</td>\n",
       "      <td>0.0</td>\n",
       "      <td>0.0</td>\n",
       "      <td>0.0</td>\n",
       "      <td>0.0</td>\n",
       "      <td>0.0</td>\n",
       "      <td>0.0</td>\n",
       "      <td>1</td>\n",
       "      <td>3.0</td>\n",
       "      <td>5000.0</td>\n",
       "      <td>0.0</td>\n",
       "      <td>0.0</td>\n",
       "      <td>-9</td>\n",
       "      <td>0</td>\n",
       "      <td>-9</td>\n",
       "    </tr>\n",
       "    <tr>\n",
       "      <th>2</th>\n",
       "      <td>1970</td>\n",
       "      <td>1</td>\n",
       "      <td>2</td>\n",
       "      <td>0</td>\n",
       "      <td>51</td>\n",
       "      <td>296</td>\n",
       "      <td>0</td>\n",
       "      <td>1</td>\n",
       "      <td>1</td>\n",
       "      <td>1</td>\n",
       "      <td>0</td>\n",
       "      <td>0</td>\n",
       "      <td>1</td>\n",
       "      <td>0</td>\n",
       "      <td>7</td>\n",
       "      <td>4</td>\n",
       "      <td>28.0</td>\n",
       "      <td>217.0</td>\n",
       "      <td>0.0</td>\n",
       "      <td>0</td>\n",
       "      <td>1.0</td>\n",
       "      <td>1.0</td>\n",
       "      <td>1.0</td>\n",
       "      <td>8</td>\n",
       "      <td>19.0</td>\n",
       "      <td>0.0</td>\n",
       "      <td>0.0</td>\n",
       "      <td>0.0</td>\n",
       "      <td>0.0</td>\n",
       "      <td>0.0</td>\n",
       "      <td>0.0</td>\n",
       "      <td>1</td>\n",
       "      <td>3.0</td>\n",
       "      <td>60000.0</td>\n",
       "      <td>0.0</td>\n",
       "      <td>0.0</td>\n",
       "      <td>0</td>\n",
       "      <td>0</td>\n",
       "      <td>0</td>\n",
       "    </tr>\n",
       "    <tr>\n",
       "      <th>3</th>\n",
       "      <td>1970</td>\n",
       "      <td>1</td>\n",
       "      <td>3</td>\n",
       "      <td>0</td>\n",
       "      <td>51</td>\n",
       "      <td>296</td>\n",
       "      <td>0</td>\n",
       "      <td>1</td>\n",
       "      <td>1</td>\n",
       "      <td>1</td>\n",
       "      <td>0</td>\n",
       "      <td>0</td>\n",
       "      <td>1</td>\n",
       "      <td>0</td>\n",
       "      <td>7</td>\n",
       "      <td>2</td>\n",
       "      <td>21.0</td>\n",
       "      <td>217.0</td>\n",
       "      <td>0.0</td>\n",
       "      <td>0</td>\n",
       "      <td>1.0</td>\n",
       "      <td>1.0</td>\n",
       "      <td>0.0</td>\n",
       "      <td>8</td>\n",
       "      <td>20.0</td>\n",
       "      <td>0.0</td>\n",
       "      <td>0.0</td>\n",
       "      <td>0.0</td>\n",
       "      <td>0.0</td>\n",
       "      <td>0.0</td>\n",
       "      <td>0.0</td>\n",
       "      <td>1</td>\n",
       "      <td>3.0</td>\n",
       "      <td>5000.0</td>\n",
       "      <td>0.0</td>\n",
       "      <td>0.0</td>\n",
       "      <td>0</td>\n",
       "      <td>0</td>\n",
       "      <td>0</td>\n",
       "    </tr>\n",
       "    <tr>\n",
       "      <th>4</th>\n",
       "      <td>1970</td>\n",
       "      <td>1</td>\n",
       "      <td>1</td>\n",
       "      <td>0</td>\n",
       "      <td>51</td>\n",
       "      <td>39</td>\n",
       "      <td>0</td>\n",
       "      <td>1</td>\n",
       "      <td>1</td>\n",
       "      <td>0</td>\n",
       "      <td>1</td>\n",
       "      <td>0</td>\n",
       "      <td>0</td>\n",
       "      <td>0</td>\n",
       "      <td>3</td>\n",
       "      <td>4</td>\n",
       "      <td>27.0</td>\n",
       "      <td>217.0</td>\n",
       "      <td>0.0</td>\n",
       "      <td>0</td>\n",
       "      <td>-99.0</td>\n",
       "      <td>-99.0</td>\n",
       "      <td>0.0</td>\n",
       "      <td>6</td>\n",
       "      <td>16.0</td>\n",
       "      <td>0.0</td>\n",
       "      <td>0.0</td>\n",
       "      <td>0.0</td>\n",
       "      <td>0.0</td>\n",
       "      <td>0.0</td>\n",
       "      <td>0.0</td>\n",
       "      <td>0</td>\n",
       "      <td>3.0</td>\n",
       "      <td>0.0</td>\n",
       "      <td>0.0</td>\n",
       "      <td>0.0</td>\n",
       "      <td>0</td>\n",
       "      <td>0</td>\n",
       "      <td>0</td>\n",
       "    </tr>\n",
       "    <tr>\n",
       "      <th>5</th>\n",
       "      <td>1970</td>\n",
       "      <td>1</td>\n",
       "      <td>6</td>\n",
       "      <td>0</td>\n",
       "      <td>5</td>\n",
       "      <td>141</td>\n",
       "      <td>0</td>\n",
       "      <td>1</td>\n",
       "      <td>1</td>\n",
       "      <td>1</td>\n",
       "      <td>1</td>\n",
       "      <td>0</td>\n",
       "      <td>1</td>\n",
       "      <td>0</td>\n",
       "      <td>7</td>\n",
       "      <td>4</td>\n",
       "      <td>28.0</td>\n",
       "      <td>217.0</td>\n",
       "      <td>0.0</td>\n",
       "      <td>0</td>\n",
       "      <td>-99.0</td>\n",
       "      <td>-99.0</td>\n",
       "      <td>0.0</td>\n",
       "      <td>8</td>\n",
       "      <td>19.0</td>\n",
       "      <td>0.0</td>\n",
       "      <td>0.0</td>\n",
       "      <td>0.0</td>\n",
       "      <td>0.0</td>\n",
       "      <td>0.0</td>\n",
       "      <td>0.0</td>\n",
       "      <td>1</td>\n",
       "      <td>3.0</td>\n",
       "      <td>305.0</td>\n",
       "      <td>0.0</td>\n",
       "      <td>0.0</td>\n",
       "      <td>-9</td>\n",
       "      <td>0</td>\n",
       "      <td>-9</td>\n",
       "    </tr>\n",
       "  </tbody>\n",
       "</table>\n",
       "</div>"
      ],
      "text/plain": [
       "   iyear  imonth  iday  extended  provstate  city  vicinity  crit1  crit2  \\\n",
       "0   1970       1     1         0         13    83         0      1      1   \n",
       "2   1970       1     2         0         51   296         0      1      1   \n",
       "3   1970       1     3         0         51   296         0      1      1   \n",
       "4   1970       1     1         0         51    39         0      1      1   \n",
       "5   1970       1     6         0          5   141         0      1      1   \n",
       "\n",
       "   crit3  doubtterr  multiple  success  suicide  attacktype1  targtype1  \\\n",
       "0      1          0         0        1        0            2          3   \n",
       "2      1          0         0        1        0            7          4   \n",
       "3      1          0         0        1        0            7          2   \n",
       "4      0          1         0        0        0            3          4   \n",
       "5      1          1         0        1        0            7          4   \n",
       "\n",
       "   targsubtype1  natlty1  guncertain1  individual  nperps  nperpcap  claimed  \\\n",
       "0          22.0    217.0          0.0           0   -99.0     -99.0      0.0   \n",
       "2          28.0    217.0          0.0           0     1.0       1.0      1.0   \n",
       "3          21.0    217.0          0.0           0     1.0       1.0      0.0   \n",
       "4          27.0    217.0          0.0           0   -99.0     -99.0      0.0   \n",
       "5          28.0    217.0          0.0           0   -99.0     -99.0      0.0   \n",
       "\n",
       "   weaptype1  weapsubtype1  nkill  nkillus  nkillter  nwound  nwoundus  \\\n",
       "0          5           5.0    0.0      0.0       0.0     0.0       0.0   \n",
       "2          8          19.0    0.0      0.0       0.0     0.0       0.0   \n",
       "3          8          20.0    0.0      0.0       0.0     0.0       0.0   \n",
       "4          6          16.0    0.0      0.0       0.0     0.0       0.0   \n",
       "5          8          19.0    0.0      0.0       0.0     0.0       0.0   \n",
       "\n",
       "   nwoundte  property  propextent  propvalue  ishostkid  ransom  INT_IDEO  \\\n",
       "0       0.0         1         3.0     5000.0        0.0     0.0        -9   \n",
       "2       0.0         1         3.0    60000.0        0.0     0.0         0   \n",
       "3       0.0         1         3.0     5000.0        0.0     0.0         0   \n",
       "4       0.0         0         3.0        0.0        0.0     0.0         0   \n",
       "5       0.0         1         3.0      305.0        0.0     0.0        -9   \n",
       "\n",
       "   INT_MISC  INT_ANY  \n",
       "0         0       -9  \n",
       "2         0        0  \n",
       "3         0        0  \n",
       "4         0        0  \n",
       "5         0       -9  "
      ]
     },
     "execution_count": 30,
     "metadata": {},
     "output_type": "execute_result"
    }
   ],
   "source": [
    "df6_train_x.provstate = lb.fit_transform(df6_train_x.provstate)\n",
    "df6_train_x.city = lb.fit_transform(df6_train_x.city)\n",
    "df6_train_x.head()"
   ]
  },
  {
   "cell_type": "code",
   "execution_count": 31,
   "metadata": {},
   "outputs": [],
   "source": [
    "clf = DecisionTreeClassifier()\n",
    "clf = clf.fit(df6_train_x, df6_train_y)"
   ]
  },
  {
   "cell_type": "markdown",
   "metadata": {},
   "source": [
    "**Feature Importance**"
   ]
  },
  {
   "cell_type": "code",
   "execution_count": 32,
   "metadata": {},
   "outputs": [
    {
     "name": "stdout",
     "output_type": "stream",
     "text": [
      "iyear 0.202952975835\n",
      "imonth 0.0572876055289\n",
      "iday 0.0418294707866\n",
      "extended 0.000467162064577\n",
      "provstate 0.0803852110722\n",
      "city 0.0594069151955\n",
      "vicinity 0.0\n",
      "crit1 0.000467162064577\n",
      "crit2 0.00334963514393\n",
      "crit3 0.000467162064577\n",
      "doubtterr 0.00398644961772\n",
      "multiple 0.0226023516673\n",
      "success 0.00669488611699\n",
      "suicide 0.000467162064577\n",
      "attacktype1 0.0241431720092\n",
      "targtype1 0.0797769773779\n",
      "targsubtype1 0.0769759656246\n",
      "natlty1 0.0144926390629\n",
      "guncertain1 0.017422476502\n",
      "individual 0.0019960560941\n",
      "nperps 0.0156149082339\n",
      "nperpcap 0.0126523173251\n",
      "claimed 0.0182851169017\n",
      "weaptype1 0.0284495852095\n",
      "weapsubtype1 0.0464110366853\n",
      "nkill 0.00679497794735\n",
      "nkillus 0.00436828844414\n",
      "nkillter 0.00358178072406\n",
      "nwound 0.0114199321596\n",
      "nwoundus 0.00588443936707\n",
      "nwoundte 0.000934324129154\n",
      "property 0.0127378048254\n",
      "propextent 0.00578627296449\n",
      "propvalue 0.0224699437114\n",
      "ishostkid 0.00182971808626\n",
      "ransom 0.000622882752769\n",
      "INT_IDEO 0.0329956656443\n",
      "INT_MISC 0.0198880943393\n",
      "INT_ANY 0.0541014746563\n"
     ]
    }
   ],
   "source": [
    "for feature, rank in enumerate(list(clf.feature_importances_)):\n",
    "        print (df6_train_x.columns[feature], rank)"
   ]
  },
  {
   "cell_type": "markdown",
   "metadata": {},
   "source": [
    "Features which form upper 60% percentile are selected. The rest are discarded as their relevance is too low."
   ]
  },
  {
   "cell_type": "code",
   "execution_count": 33,
   "metadata": {},
   "outputs": [
    {
     "name": "stdout",
     "output_type": "stream",
     "text": [
      "iyear 0.202952975835\n",
      "imonth 0.0572876055289\n",
      "provstate 0.0803852110722\n",
      "city 0.0594069151955\n",
      "targtype1 0.0797769773779\n",
      "targsubtype1 0.0769759656246\n",
      "weapsubtype1 0.0464110366853\n",
      "INT_ANY 0.0541014746563\n"
     ]
    }
   ],
   "source": [
    "perc_val = np.percentile(clf.feature_importances_, 80)\n",
    "index_relevant_features = []\n",
    "for feature, rank in enumerate(list(clf.feature_importances_)):\n",
    "        if rank >= perc_val:\n",
    "            print (df6_train_x.columns[feature], rank)\n",
    "            index_relevant_features.append(feature)"
   ]
  },
  {
   "cell_type": "code",
   "execution_count": 34,
   "metadata": {
    "collapsed": true
   },
   "outputs": [],
   "source": [
    "df6_train_x = pd.DataFrame(df6_train_x[df6_train_x.columns[index_relevant_features]])\n"
   ]
  },
  {
   "cell_type": "code",
   "execution_count": 35,
   "metadata": {},
   "outputs": [
    {
     "data": {
      "text/plain": [
       "(2206, 8)"
      ]
     },
     "execution_count": 35,
     "metadata": {},
     "output_type": "execute_result"
    }
   ],
   "source": [
    "df6_train_x.shape"
   ]
  },
  {
   "cell_type": "code",
   "execution_count": 36,
   "metadata": {},
   "outputs": [
    {
     "data": {
      "text/plain": [
       "(2206,)"
      ]
     },
     "execution_count": 36,
     "metadata": {},
     "output_type": "execute_result"
    }
   ],
   "source": [
    "df6_train_y.shape\n"
   ]
  },
  {
   "cell_type": "code",
   "execution_count": 37,
   "metadata": {},
   "outputs": [
    {
     "data": {
      "text/plain": [
       "(552, 8)"
      ]
     },
     "execution_count": 37,
     "metadata": {},
     "output_type": "execute_result"
    }
   ],
   "source": [
    "df6_test = df6_test[df6_test.columns[index_relevant_features]]\n",
    "df6_test.shape"
   ]
  },
  {
   "cell_type": "code",
   "execution_count": null,
   "metadata": {
    "collapsed": true
   },
   "outputs": [],
   "source": []
  },
  {
   "cell_type": "markdown",
   "metadata": {},
   "source": [
    "**Feature Ranking of final Model**"
   ]
  },
  {
   "cell_type": "code",
   "execution_count": 38,
   "metadata": {},
   "outputs": [],
   "source": [
    "clf = clf.fit(df6_train_x, df6_train_y)\n",
    "clf.feature_importances_\n",
    "data_feature_rank = pd.DataFrame(clf.feature_importances_)\n",
    "data_feature_rank.columns = ['rank']"
   ]
  },
  {
   "cell_type": "code",
   "execution_count": 40,
   "metadata": {},
   "outputs": [
    {
     "data": {
      "text/plain": [
       "<matplotlib.axes._subplots.AxesSubplot at 0x1ad3a04d0b8>"
      ]
     },
     "execution_count": 40,
     "metadata": {},
     "output_type": "execute_result"
    },
    {
     "data": {
      "image/png": "[encoded data removed]",
      "text/plain": [
       "<matplotlib.figure.Figure at 0x1ad43022780>"
      ]
     },
     "metadata": {},
     "output_type": "display_data"
    }
   ],
   "source": [
    "sns.barplot(x = df6_train_x.columns, y = 'rank' , data = data_feature_rank, order = df6_train_x.columns)\n"
   ]
  },
  {
   "cell_type": "code",
   "execution_count": null,
   "metadata": {
    "collapsed": true
   },
   "outputs": [],
   "source": []
  },
  {
   "cell_type": "markdown",
   "metadata": {},
   "source": [
    "**Training and testing the model on the train data**\n"
   ]
  },
  {
   "cell_type": "code",
   "execution_count": null,
   "metadata": {},
   "outputs": [],
   "source": [
    "clf_dtree = DecisionTreeClassifier()\n",
    "clf_dtree = clf_dtree.fit(df6_train_x, df6_train_y)\n",
    "clf_dtree.score(df6_train_x,df6_train_y)"
   ]
  },
  {
   "cell_type": "code",
   "execution_count": null,
   "metadata": {
    "collapsed": true
   },
   "outputs": [],
   "source": []
  },
  {
   "cell_type": "markdown",
   "metadata": {},
   "source": [
    "**Evaluate Model Accuracy**\n"
   ]
  },
  {
   "cell_type": "code",
   "execution_count": null,
   "metadata": {},
   "outputs": [],
   "source": [
    "from sklearn.cross_validation import train_test_split\n",
    "X_train, X_test, y_train, y_test = train_test_split(df6_train_x, df6_train_y, test_size=0.3, random_state=0)\n",
    "print (X_train.shape, y_train.shape)\n",
    "print (X_test.shape, y_test.shape)"
   ]
  },
  {
   "cell_type": "code",
   "execution_count": null,
   "metadata": {
    "collapsed": true
   },
   "outputs": [],
   "source": []
  },
  {
   "cell_type": "markdown",
   "metadata": {},
   "source": [
    "**Fitting the Random Forest Classifier onto the training dataset.**\n"
   ]
  },
  {
   "cell_type": "code",
   "execution_count": null,
   "metadata": {},
   "outputs": [],
   "source": [
    "from sklearn.ensemble import RandomForestClassifier\n",
    "clf_rf = RandomForestClassifier(n_estimators=10)\n",
    "clf_rf.fit(X_train, y_train)"
   ]
  },
  {
   "cell_type": "markdown",
   "metadata": {},
   "source": [
    "Evaluating the model accuracy on the validation set.\n"
   ]
  },
  {
   "cell_type": "code",
   "execution_count": null,
   "metadata": {},
   "outputs": [],
   "source": [
    "from sklearn.metrics import accuracy_score\n",
    "y_pred = clf_rf.predict(X_test)\n",
    "accuracy_score(y_test, y_pred)"
   ]
  },
  {
   "cell_type": "code",
   "execution_count": null,
   "metadata": {
    "collapsed": true
   },
   "outputs": [],
   "source": []
  }
 ],
 "metadata": {
  "kernelspec": {
   "display_name": "Python 3",
   "language": "python",
   "name": "python3"
  },
  "language_info": {
   "codemirror_mode": {
    "name": "ipython",
    "version": 3
   },
   "file_extension": ".py",
   "mimetype": "text/x-python",
   "name": "python",
   "nbconvert_exporter": "python",
   "pygments_lexer": "ipython3",
   "version": "3.6.1"
  }
 },
 "nbformat": 4,
 "nbformat_minor": 2
}
